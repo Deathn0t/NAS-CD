{
 "cells": [
  {
   "cell_type": "code",
   "execution_count": 10,
   "metadata": {},
   "outputs": [],
   "source": [
    "import pandas as pd\n",
    "import matplotlib.pyplot as plt\n",
    "import numpy as np\n",
    "%matplotlib inline"
   ]
  },
  {
   "cell_type": "code",
   "execution_count": 25,
   "metadata": {},
   "outputs": [
    {
     "data": {
      "text/html": [
       "<div>\n",
       "<style scoped>\n",
       "    .dataframe tbody tr th:only-of-type {\n",
       "        vertical-align: middle;\n",
       "    }\n",
       "\n",
       "    .dataframe tbody tr th {\n",
       "        vertical-align: top;\n",
       "    }\n",
       "\n",
       "    .dataframe thead th {\n",
       "        text-align: right;\n",
       "    }\n",
       "</style>\n",
       "<table border=\"1\" class=\"dataframe\">\n",
       "  <thead>\n",
       "    <tr style=\"text-align: right;\">\n",
       "      <th></th>\n",
       "      <th>0</th>\n",
       "      <th>1</th>\n",
       "      <th>2</th>\n",
       "      <th>3</th>\n",
       "      <th>4</th>\n",
       "      <th>objective</th>\n",
       "      <th>elapsed_sec</th>\n",
       "      <th>index</th>\n",
       "    </tr>\n",
       "  </thead>\n",
       "  <tbody>\n",
       "    <tr>\n",
       "      <th>0</th>\n",
       "      <td>0</td>\n",
       "      <td>1</td>\n",
       "      <td>1</td>\n",
       "      <td>14</td>\n",
       "      <td>0</td>\n",
       "      <td>0.942939</td>\n",
       "      <td>9.974435</td>\n",
       "      <td>0</td>\n",
       "    </tr>\n",
       "    <tr>\n",
       "      <th>1</th>\n",
       "      <td>1</td>\n",
       "      <td>0</td>\n",
       "      <td>8</td>\n",
       "      <td>11</td>\n",
       "      <td>4</td>\n",
       "      <td>-1.000000</td>\n",
       "      <td>14.188902</td>\n",
       "      <td>1</td>\n",
       "    </tr>\n",
       "    <tr>\n",
       "      <th>2</th>\n",
       "      <td>0</td>\n",
       "      <td>1</td>\n",
       "      <td>0</td>\n",
       "      <td>7</td>\n",
       "      <td>0</td>\n",
       "      <td>0.924085</td>\n",
       "      <td>23.908144</td>\n",
       "      <td>2</td>\n",
       "    </tr>\n",
       "    <tr>\n",
       "      <th>3</th>\n",
       "      <td>0</td>\n",
       "      <td>1</td>\n",
       "      <td>4</td>\n",
       "      <td>14</td>\n",
       "      <td>4</td>\n",
       "      <td>-1.000000</td>\n",
       "      <td>28.583725</td>\n",
       "      <td>3</td>\n",
       "    </tr>\n",
       "    <tr>\n",
       "      <th>4</th>\n",
       "      <td>1</td>\n",
       "      <td>1</td>\n",
       "      <td>2</td>\n",
       "      <td>12</td>\n",
       "      <td>1</td>\n",
       "      <td>-1.000000</td>\n",
       "      <td>32.814654</td>\n",
       "      <td>4</td>\n",
       "    </tr>\n",
       "    <tr>\n",
       "      <th>...</th>\n",
       "      <td>...</td>\n",
       "      <td>...</td>\n",
       "      <td>...</td>\n",
       "      <td>...</td>\n",
       "      <td>...</td>\n",
       "      <td>...</td>\n",
       "      <td>...</td>\n",
       "      <td>...</td>\n",
       "    </tr>\n",
       "    <tr>\n",
       "      <th>59</th>\n",
       "      <td>0</td>\n",
       "      <td>0</td>\n",
       "      <td>1</td>\n",
       "      <td>2</td>\n",
       "      <td>4</td>\n",
       "      <td>0.932977</td>\n",
       "      <td>510.729140</td>\n",
       "      <td>59</td>\n",
       "    </tr>\n",
       "    <tr>\n",
       "      <th>60</th>\n",
       "      <td>0</td>\n",
       "      <td>0</td>\n",
       "      <td>0</td>\n",
       "      <td>1</td>\n",
       "      <td>4</td>\n",
       "      <td>0.917609</td>\n",
       "      <td>521.031945</td>\n",
       "      <td>60</td>\n",
       "    </tr>\n",
       "    <tr>\n",
       "      <th>61</th>\n",
       "      <td>0</td>\n",
       "      <td>1</td>\n",
       "      <td>1</td>\n",
       "      <td>4</td>\n",
       "      <td>3</td>\n",
       "      <td>0.946333</td>\n",
       "      <td>533.122637</td>\n",
       "      <td>61</td>\n",
       "    </tr>\n",
       "    <tr>\n",
       "      <th>62</th>\n",
       "      <td>0</td>\n",
       "      <td>1</td>\n",
       "      <td>1</td>\n",
       "      <td>5</td>\n",
       "      <td>4</td>\n",
       "      <td>0.937427</td>\n",
       "      <td>543.387357</td>\n",
       "      <td>62</td>\n",
       "    </tr>\n",
       "    <tr>\n",
       "      <th>63</th>\n",
       "      <td>0</td>\n",
       "      <td>1</td>\n",
       "      <td>0</td>\n",
       "      <td>4</td>\n",
       "      <td>3</td>\n",
       "      <td>0.937836</td>\n",
       "      <td>553.716740</td>\n",
       "      <td>63</td>\n",
       "    </tr>\n",
       "  </tbody>\n",
       "</table>\n",
       "<p>64 rows × 8 columns</p>\n",
       "</div>"
      ],
      "text/plain": [
       "    0  1  2   3  4  objective  elapsed_sec  index\n",
       "0   0  1  1  14  0   0.942939     9.974435      0\n",
       "1   1  0  8  11  4  -1.000000    14.188902      1\n",
       "2   0  1  0   7  0   0.924085    23.908144      2\n",
       "3   0  1  4  14  4  -1.000000    28.583725      3\n",
       "4   1  1  2  12  1  -1.000000    32.814654      4\n",
       ".. .. .. ..  .. ..        ...          ...    ...\n",
       "59  0  0  1   2  4   0.932977   510.729140     59\n",
       "60  0  0  0   1  4   0.917609   521.031945     60\n",
       "61  0  1  1   4  3   0.946333   533.122637     61\n",
       "62  0  1  1   5  4   0.937427   543.387357     62\n",
       "63  0  1  0   4  3   0.937836   553.716740     63\n",
       "\n",
       "[64 rows x 8 columns]"
      ]
     },
     "execution_count": 25,
     "metadata": {},
     "output_type": "execute_result"
    }
   ],
   "source": [
    "fishModels = pd.read_csv(\"ImprovedModels.csv\")\n",
    "fishModels[\"index\"] = range(0,fishModels.shape[0])\n",
    "fishModels"
   ]
  },
  {
   "cell_type": "code",
   "execution_count": 9,
   "metadata": {},
   "outputs": [
    {
     "data": {
      "text/plain": [
       "Text(0, 0.5, 'R2-score')"
      ]
     },
     "execution_count": 9,
     "metadata": {},
     "output_type": "execute_result"
    },
    {
     "data": {
      "image/png": "[encoded data removed]",
      "text/plain": [
       "<Figure size 432x288 with 1 Axes>"
      ]
     },
     "metadata": {
      "needs_background": "light"
     },
     "output_type": "display_data"
    }
   ],
   "source": [
    "plt.scatter(range(0,fishModels.shape[0]),fishModels[\"objective\"])\n",
    "plt.xlabel(\"Models\")\n",
    "plt.ylabel(\"R2-score\")"
   ]
  },
  {
   "cell_type": "code",
   "execution_count": 63,
   "metadata": {},
   "outputs": [
    {
     "name": "stdout",
     "output_type": "stream",
     "text": [
      "[-1.    0.8   0.9   0.93  0.95  1.  ]\n"
     ]
    },
    {
     "data": {
      "image/png": "[encoded data removed]",
      "text/plain": [
       "<Figure size 432x288 with 1 Axes>"
      ]
     },
     "metadata": {
      "needs_background": "light"
     },
     "output_type": "display_data"
    }
   ],
   "source": [
    "import numpy as np\n",
    "import pandas as pd\n",
    "import matplotlib.pyplot as plt\n",
    "import matplotlib.colors\n",
    "\n",
    "\n",
    "bounds = [-1,0.8,0.9,0.93,0.95,1]\n",
    "colors = [\"yellow\", \"red\",\"purple\",\"orange\",\"blue\", \"green\"]\n",
    "cmap = matplotlib.colors.ListedColormap(colors)\n",
    "norm = matplotlib.colors.BoundaryNorm(bounds, len(colors))\n",
    "print(norm.boundaries)\n",
    "\n",
    "plt.scatter(fishModels[\"index\"], fishModels[\"objective\"], marker=\"+\",c= fishModels[\"objective\"].values,cmap=cmap, norm=norm)\n",
    "plt.ylim(0.85,1.)\n",
    "# fig.legend()\n",
    "#fig.colorbar(sc, spacing=\"proportional\")\n",
    "\n",
    "#ax.plot(df.year, np.poly1d(fit)(df.year.values), color=\"k\")\n",
    "plt.xlabel(\"Models\")\n",
    "plt.ylabel(\"R2-score\")\n",
    "plt.show()"
   ]
  },
  {
   "cell_type": "code",
   "execution_count": 112,
   "metadata": {},
   "outputs": [
    {
     "name": "stdout",
     "output_type": "stream",
     "text": [
      "[-1.    0.85  0.9   0.93  0.95  1.  ]\n"
     ]
    },
    {
     "data": {
      "image/png": "[encoded data removed]",
      "text/plain": [
       "<Figure size 432x288 with 2 Axes>"
      ]
     },
     "metadata": {
      "needs_background": "light"
     },
     "output_type": "display_data"
    }
   ],
   "source": [
    "import numpy as np\n",
    "import pandas as pd\n",
    "import matplotlib.pyplot as plt\n",
    "import matplotlib.colors\n",
    "from matplotlib import cm\n",
    "import matplotlib.patches as mpatches\n",
    "\n",
    "\n",
    "bounds = [-1,0.85,0.9,0.93,0.95,1]\n",
    "colors = [\"red\", \"orange\",\"yellow\",\"limegreen\", \"green\",\"blue\"]\n",
    "#cmap = cm.get_cmap('RdYlGn')\n",
    "cmap = matplotlib.colors.ListedColormap(colors)\n",
    "norm = matplotlib.colors.BoundaryNorm(bounds, len(colors))\n",
    "print(norm.boundaries)\n",
    "\n",
    "f, (ax, ax2) = plt.subplots(2, 1, sharex=True)\n",
    "ax.scatter(fishModels[\"index\"], fishModels[\"objective\"], marker=\"+\", s=100,c= fishModels[\"objective\"].values,cmap=cmap,norm=norm)\n",
    "ax2.scatter(fishModels[\"index\"], fishModels[\"objective\"], marker=\"+\",s=100,c= fishModels[\"objective\"].values,cmap=cmap,norm=norm)\n",
    "\n",
    "ax.set_ylim(.8, 1)  # outliers only\n",
    "ax2.set_ylim(-1.1,-0.9)\n",
    "\n",
    "ax.spines['bottom'].set_visible(False)\n",
    "ax2.spines['top'].set_visible(False)\n",
    "ax.xaxis.tick_top()\n",
    "ax.tick_params(labeltop='off')  # don't put tick labels at the top\n",
    "ax2.xaxis.tick_bottom()\n",
    "\n",
    "red_patch = mpatches.Patch(color='red', label='[-1,0]')\n",
    "orange_patch = mpatches.Patch(color='orange', label='[0,0.85]')\n",
    "yellow_patch = mpatches.Patch(color='yellow', label='[0.85,0.9]')\n",
    "limegreen_patch = mpatches.Patch(color='limegreen', label='[0.9,0.93]')\n",
    "green_patch = mpatches.Patch(color='green', label='[0.93,0.95]')\n",
    "blue_patch = mpatches.Patch(color='blue', label='[0.95,1]')\n",
    "\n",
    "plt.legend(prop={\"size\":8},title = 'R2-score',handles=[red_patch,orange_patch,yellow_patch,limegreen_patch,green_patch,blue_patch])\n",
    "\n",
    "\n",
    "d = .015\n",
    "\n",
    "kwargs = dict(transform=ax.transAxes, color='k', clip_on=False)\n",
    "ax.plot((-d, +d), (-d, +d), **kwargs)        # top-left diagonal\n",
    "ax.plot((1 - d, 1 + d), (-d, +d), **kwargs)  # top-right diagonal\n",
    "\n",
    "kwargs.update(transform=ax2.transAxes)  # switch to the bottom axes\n",
    "ax2.plot((-d, +d), (1 - d, 1 + d), **kwargs)  # bottom-left diagonal\n",
    "ax2.plot((1 - d, 1 + d), (1 - d, 1 + d), **kwargs) \n",
    "plt.xlabel(\"Models\")\n",
    "plt.ylabel(\"R2-score\")\n",
    "plt.savefig(\"improved.png\")\n",
    "plt.show()\n"
   ]
  },
  {
   "cell_type": "code",
   "execution_count": 113,
   "metadata": {},
   "outputs": [
    {
     "name": "stdout",
     "output_type": "stream",
     "text": [
      "[-1.    0.85  0.9   0.93  0.95  1.  ]\n"
     ]
    },
    {
     "data": {
      "image/png": "[encoded data removed]",
      "text/plain": [
       "<Figure size 432x288 with 2 Axes>"
      ]
     },
     "metadata": {
      "needs_background": "light"
     },
     "output_type": "display_data"
    }
   ],
   "source": [
    "fishModels = pd.read_csv(\"Models.csv\")\n",
    "fishModels[\"index\"] = range(0,fishModels.shape[0])\n",
    "fishModels\n",
    "\n",
    "bounds = [-1,0.85,0.9,0.93,0.95,1]\n",
    "colors = [\"red\", \"orange\",\"yellow\",\"limegreen\", \"green\",\"blue\"]\n",
    "#cmap = cm.get_cmap('RdYlGn')\n",
    "cmap = matplotlib.colors.ListedColormap(colors)\n",
    "norm = matplotlib.colors.BoundaryNorm(bounds, len(colors))\n",
    "print(norm.boundaries)\n",
    "\n",
    "f, (ax, ax2) = plt.subplots(2, 1, sharex=True)\n",
    "ax.scatter(fishModels[\"index\"], fishModels[\"objective\"], marker=\"+\", s=100,c= fishModels[\"objective\"].values,cmap=cmap,norm=norm)\n",
    "ax2.scatter(fishModels[\"index\"], fishModels[\"objective\"], marker=\"+\",s=100,c= fishModels[\"objective\"].values,cmap=cmap,norm=norm)\n",
    "\n",
    "ax.set_ylim(.8, 1)  # outliers only\n",
    "ax2.set_ylim(-1.1,-0.9)\n",
    "\n",
    "ax.spines['bottom'].set_visible(False)\n",
    "ax2.spines['top'].set_visible(False)\n",
    "ax.xaxis.tick_top()\n",
    "ax.tick_params(labeltop='off')  # don't put tick labels at the top\n",
    "ax2.xaxis.tick_bottom()\n",
    "\n",
    "red_patch = mpatches.Patch(color='red', label='[-1,0]')\n",
    "orange_patch = mpatches.Patch(color='orange', label='[0,0.85]')\n",
    "yellow_patch = mpatches.Patch(color='yellow', label='[0.85,0.9]')\n",
    "limegreen_patch = mpatches.Patch(color='limegreen', label='[0.9,0.93]')\n",
    "green_patch = mpatches.Patch(color='green', label='[0.93,0.95]')\n",
    "blue_patch = mpatches.Patch(color='blue', label='[0.95,1]')\n",
    "\n",
    "plt.legend(prop={\"size\":8},title = 'R2-score',handles=[red_patch,orange_patch,yellow_patch,limegreen_patch,green_patch,blue_patch])\n",
    "\n",
    "\n",
    "d = .015\n",
    "\n",
    "kwargs = dict(transform=ax.transAxes, color='k', clip_on=False)\n",
    "ax.plot((-d, +d), (-d, +d), **kwargs)        # top-left diagonal\n",
    "ax.plot((1 - d, 1 + d), (-d, +d), **kwargs)  # top-right diagonal\n",
    "\n",
    "kwargs.update(transform=ax2.transAxes)  # switch to the bottom axes\n",
    "ax2.plot((-d, +d), (1 - d, 1 + d), **kwargs)  # bottom-left diagonal\n",
    "ax2.plot((1 - d, 1 + d), (1 - d, 1 + d), **kwargs) \n",
    "plt.xlabel(\"Models\")\n",
    "plt.ylabel(\"R2-score\")\n",
    "plt.savefig(\"initialModels.png\")\n",
    "plt.show()"
   ]
  },
  {
   "cell_type": "code",
   "execution_count": null,
   "metadata": {},
   "outputs": [],
   "source": []
  }
 ],
 "metadata": {
  "kernelspec": {
   "display_name": "Python 3",
   "language": "python",
   "name": "python3"
  },
  "language_info": {
   "codemirror_mode": {
    "name": "ipython",
    "version": 3
   },
   "file_extension": ".py",
   "mimetype": "text/x-python",
   "name": "python",
   "nbconvert_exporter": "python",
   "pygments_lexer": "ipython3",
   "version": "3.7.6"
  }
 },
 "nbformat": 4,
 "nbformat_minor": 4
}
